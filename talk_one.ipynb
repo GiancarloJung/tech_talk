{
 "cells": [
  {
   "cell_type": "code",
   "execution_count": 6,
   "metadata": {},
   "outputs": [
    {
     "data": {
      "image/png": "[encoded data removed]",
      "text/plain": [
       "<Figure size 432x288 with 1 Axes>"
      ]
     },
     "metadata": {
      "needs_background": "light"
     },
     "output_type": "display_data"
    }
   ],
   "source": [
    "import numpy as np\n",
    "import matplotlib.pyplot as plt\n",
    "import pandas as pd\n",
    "\n",
    "from sklearn.linear_model import LinearRegression\n",
    "\n",
    "# We have a set of values, if they are related we can predict one based on the other\n",
    "# This is called a dataframe, wich is a 2D dataset \n",
    "# think about it like a chess table, where you select lines and collumns\n",
    "\n",
    "data = pd.read_csv('linear_regression.csv')\n",
    "# print(data)\n",
    "\n",
    "# `loc` and `iloc`\n",
    "# (label based vs integer based)\n",
    "# the parameters are intervals, the first is rows and the second columns\n",
    "# this will return a new dataframe, with the filtered information\n",
    "\n",
    "# we need a array of points, in here we have just points\n",
    "# to do that we are gonna reshape our dataframe into a new one:\n",
    "\n",
    "# reshape takes two parameters, slice size and length\n",
    "# print(len(data.iloc[:, 0].values))`\n",
    "# print(data.iloc[0:90].values.reshape(45, 2))`\n",
    "\n",
    "X = data.iloc[:, 0].values.reshape(-1, 1)\n",
    "Y = data.iloc[:, 1].values.reshape(-1, 1)\n",
    "# print(X)\n",
    "# print(Y)\n",
    "\n",
    "# we are ready to apply the linear regression, \n",
    "# first we create the model, then we want to trace a line \n",
    "# that have the smallest difference possible between \n",
    "# the point of this line and the points in our data.\n",
    "model = LinearRegression()\n",
    "model.fit(X, Y)\n",
    "# Now we have a complete lienar function, we derived intercept and slope from it:\n",
    "# print(model.intercept_)\n",
    "# print(model.coef_)\n",
    "\n",
    "# Lets make predictions. Predict its to determine our Y from the x that we have. \n",
    "# lets give the model our x points and let it calculate y for them using our function\n",
    "Y_pred = model.predict(X)\n",
    "\n",
    "plt.scatter(X, Y)\n",
    "plt.plot(X, Y_pred, color='red')\n",
    "plt.show()\n"
   ]
  },
  {
   "cell_type": "code",
   "execution_count": 13,
   "metadata": {},
   "outputs": [
    {
     "name": "stdout",
     "output_type": "stream",
     "text": [
      "[9.90860619]\n",
      "[[1.28735737]]\n",
      "8.219591371333891\n",
      "107.47043700950906\n",
      "10.366794924638427\n"
     ]
    }
   ],
   "source": [
    "import sklearn.metrics as metrics\n",
    "\n",
    "# difference between the guessed values and the correct ones\n",
    "# Average distance between each value and the mean, its a way to describe the variation\n",
    "# how close a regression line is to the points (square removes negatives)\n",
    "\n",
    "print(metrics.mean_absolute_error(Y, Y_pred))\n",
    "print(metrics.mean_squared_error(Y, Y_pred))  \n",
    "print(np.sqrt(metrics.mean_squared_error(Y, Y_pred)))"
   ]
  },
  {
   "cell_type": "code",
   "execution_count": 8,
   "metadata": {},
   "outputs": [
    {
     "name": "stdout",
     "output_type": "stream",
     "text": [
      "[[ 87.15004839]\n",
      " [100.02362209]]\n"
     ]
    }
   ],
   "source": [
    "# predicting data that we dont have:\n",
    "d = {'new_points': [60, 70]}\n",
    "df = pd.DataFrame(data=d)\n",
    "\n",
    "d_pred = model.predict(df)\n",
    "print(d_pred)\n"
   ]
  }
 ],
 "metadata": {
  "kernelspec": {
   "display_name": "Python 3",
   "language": "python",
   "name": "python3"
  },
  "language_info": {
   "codemirror_mode": {
    "name": "ipython",
    "version": 3
   },
   "file_extension": ".py",
   "mimetype": "text/x-python",
   "name": "python",
   "nbconvert_exporter": "python",
   "pygments_lexer": "ipython3",
   "version": "3.7.3"
  }
 },
 "nbformat": 4,
 "nbformat_minor": 2
}
